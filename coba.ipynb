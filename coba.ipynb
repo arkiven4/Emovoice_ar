{
 "cells": [
  {
   "cell_type": "code",
   "execution_count": 1,
   "metadata": {},
   "outputs": [
    {
     "name": "stderr",
     "output_type": "stream",
     "text": [
      "/run/media/viblab/Markov2/Pras/Thesis/env/lib/python3.8/site-packages/tqdm/auto.py:21: TqdmWarning: IProgress not found. Please update jupyter and ipywidgets. See https://ipywidgets.readthedocs.io/en/stable/user_install.html\n",
      "  from .autonotebook import tqdm as notebook_tqdm\n",
      "2024-06-16 18:05:20.118882: I tensorflow/core/platform/cpu_feature_guard.cc:182] This TensorFlow binary is optimized to use available CPU instructions in performance-critical operations.\n",
      "To enable the following instructions: AVX2 FMA, in other operations, rebuild TensorFlow with the appropriate compiler flags.\n",
      "2024-06-16 18:05:21.115909: W tensorflow/compiler/tf2tensorrt/utils/py_utils.cc:38] TF-TRT Warning: Could not find TensorRT\n"
     ]
    }
   ],
   "source": [
    "import torch \n",
    "checkpoint_dict = torch.load('OverFlow-Female.ckpt', map_location='cpu')"
   ]
  },
  {
   "cell_type": "code",
   "execution_count": 2,
   "metadata": {},
   "outputs": [
    {
     "data": {
      "text/plain": [
       "dict_keys(['epoch', 'global_step', 'pytorch-lightning_version', 'state_dict', 'callbacks', 'optimizer_states', 'lr_schedulers', 'native_amp_scaling_state', 'hparams_name', 'hyper_parameters'])"
      ]
     },
     "execution_count": 2,
     "metadata": {},
     "output_type": "execute_result"
    }
   ],
   "source": [
    "checkpoint_dict.keys()"
   ]
  },
  {
   "cell_type": "code",
   "execution_count": 20,
   "metadata": {},
   "outputs": [],
   "source": [
    "checkpoint_dict['hyper_parameters']['cmu_phonetiser'] = ''\n",
    "checkpoint_dict['hyper_parameters']['normaliser'] = ''"
   ]
  },
  {
   "cell_type": "code",
   "execution_count": 21,
   "metadata": {},
   "outputs": [
    {
     "data": {
      "text/plain": [
       "{'run_name': 'OverFlow',\n",
       " 'gpus': [0],\n",
       " 'max_epochs': 50000,\n",
       " 'val_check_interval': 100,\n",
       " 'save_model_checkpoint': 500,\n",
       " 'seed': 1234,\n",
       " 'checkpoint_dir': 'checkpoints',\n",
       " 'tensorboard_log_dir': 'tb_logs',\n",
       " 'gradient_accumulation_steps': 1,\n",
       " 'precision': 16,\n",
       " 'logger': None,\n",
       " 'run_tests': False,\n",
       " 'warm_start': False,\n",
       " 'ignore_layers': ['model.embedding.weight'],\n",
       " 'batch_size': 40,\n",
       " 'load_mel_from_disk': False,\n",
       " 'training_files': 'data/filelists/ljs_audio_text_train_filelist.txt',\n",
       " 'validation_files': 'data/filelists/ljs_audio_text_val_filelist.txt',\n",
       " 'text_cleaners': ['english_cleaners'],\n",
       " 'phonetise': True,\n",
       " 'cmu_phonetiser': '',\n",
       " 'num_workers': 20,\n",
       " 'max_wav_value': 32768.0,\n",
       " 'sampling_rate': 22050,\n",
       " 'filter_length': 1024,\n",
       " 'hop_length': 256,\n",
       " 'win_length': 1024,\n",
       " 'n_mel_channels': 80,\n",
       " 'mel_fmin': 0.0,\n",
       " 'mel_fmax': 8000.0,\n",
       " 'normaliser': '',\n",
       " 'go_token_init_value': tensor([-0.8870, -0.6774, -0.4177, -0.2051, -0.0759,  0.0725,  0.1795,  0.1504,\n",
       "          0.0634,  0.0115,  0.0459,  0.0312,  0.0117, -0.0060, -0.0300, -0.1085,\n",
       "         -0.1594, -0.1884, -0.2350, -0.2930, -0.3409, -0.3855, -0.4790, -0.5098,\n",
       "         -0.5391, -0.5419, -0.6033, -0.6267, -0.6827, -0.7423, -0.7982, -0.8706,\n",
       "         -0.9223, -0.9448, -0.9956, -0.9610, -0.9618, -0.9244, -0.9000, -0.8919,\n",
       "         -0.8602, -0.8314, -0.8243, -0.8283, -0.8516, -0.8807, -0.9134, -0.9282,\n",
       "         -0.9176, -0.8950, -0.8963, -0.8844, -0.8572, -0.8190, -0.8057, -0.8192,\n",
       "         -0.8400, -0.8727, -0.8909, -0.8752, -0.8734, -0.8764, -0.8821, -0.9379,\n",
       "         -1.0175, -1.0997, -1.1645, -1.2033, -1.2279, -1.2545, -1.2727, -1.3109,\n",
       "         -1.3814, -1.4154, -1.4342, -1.4307, -1.3783, -1.3111, -1.2700, -1.2862]),\n",
       " 'init_transition_probability': tensor([0.1580]),\n",
       " 'init_mean': 0.0,\n",
       " 'init_std': 1.0,\n",
       " 'data_mean': 0,\n",
       " 'data_std': 0,\n",
       " 'n_symbols': 150,\n",
       " 'symbols_embedding_dim': 512,\n",
       " 'encoder_kernel_size': 5,\n",
       " 'encoder_n_convolutions': 3,\n",
       " 'encoder_embedding_dim': 512,\n",
       " 'state_per_phone': 2,\n",
       " 'n_frames_per_step': 1,\n",
       " 'train_go': True,\n",
       " 'variance_floor': 0.001,\n",
       " 'data_dropout': 0,\n",
       " 'data_dropout_while_eval': True,\n",
       " 'data_dropout_while_sampling': False,\n",
       " 'predict_means': True,\n",
       " 'max_sampling_time': 1000,\n",
       " 'deterministic_transition': True,\n",
       " 'duration_quantile_threshold': 0.5,\n",
       " 'prenet_n_layers': 2,\n",
       " 'prenet_dim': 256,\n",
       " 'prenet_dropout': 0.5,\n",
       " 'prenet_dropout_while_eval': True,\n",
       " 'post_prenet_rnn_dim': 1024,\n",
       " 'parameternetwork': [1024],\n",
       " 'flow_hidden_channels': 150,\n",
       " 'kernel_size_dec': 5,\n",
       " 'dilation_rate': 1,\n",
       " 'n_blocks_dec': 12,\n",
       " 'n_block_layers': 4,\n",
       " 'p_dropout_dec': 0.05,\n",
       " 'n_split': 4,\n",
       " 'n_sqz': 2,\n",
       " 'sigmoid_scale': False,\n",
       " 'gin_channels': 0,\n",
       " 'learning_rate': 0.001,\n",
       " 'weight_decay': 1e-06,\n",
       " 'grad_clip_thresh': 40000.0,\n",
       " 'stochastic_weight_avg': False,\n",
       " 'checkpoint_path': 'checkpoints/OverFlow/checkpoint_198000.ckpt'}"
      ]
     },
     "execution_count": 21,
     "metadata": {},
     "output_type": "execute_result"
    }
   ],
   "source": [
    "checkpoint_dict['hyper_parameters']"
   ]
  },
  {
   "cell_type": "code",
   "execution_count": 22,
   "metadata": {},
   "outputs": [],
   "source": [
    "torch.save(checkpoint_dict, 'OverFlow-Female.ckpt')"
   ]
  }
 ],
 "metadata": {
  "kernelspec": {
   "display_name": "env",
   "language": "python",
   "name": "python3"
  },
  "language_info": {
   "codemirror_mode": {
    "name": "ipython",
    "version": 3
   },
   "file_extension": ".py",
   "mimetype": "text/x-python",
   "name": "python",
   "nbconvert_exporter": "python",
   "pygments_lexer": "ipython3",
   "version": "3.8.16"
  },
  "orig_nbformat": 4
 },
 "nbformat": 4,
 "nbformat_minor": 2
}
